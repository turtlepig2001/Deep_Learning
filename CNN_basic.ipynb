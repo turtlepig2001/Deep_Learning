{
 "cells": [
  {
   "attachments": {},
   "cell_type": "markdown",
   "metadata": {},
   "source": [
    "# Pytorch基础学习之CNN相关"
   ]
  },
  {
   "attachments": {},
   "cell_type": "markdown",
   "metadata": {},
   "source": [
    "## 第一部分网络搭建的基础  \n",
    "参照 Deeplizard《Pytorch神经网络高效入门教程》学习"
   ]
  },
  {
   "cell_type": "code",
   "execution_count": 1,
   "metadata": {},
   "outputs": [],
   "source": [
    "import torch.nn as nn"
   ]
  },
  {
   "cell_type": "code",
   "execution_count": 2,
   "metadata": {},
   "outputs": [],
   "source": [
    "class Network(nn.Module):\n",
    "    def __init__(self):\n",
    "        super(Network, self).__init__()\n",
    "        self.conv1=nn.Conv2d(in_channels=1,out_channels=6,kernel_size=5)\n",
    "        self.conv2=nn.Conv2d(in_channels=6,out_channels=12,kernel_size=5)\n",
    "        self.fc1=nn.Linear(in_features=12*4*4,out_features=120)#经过了filter和maxpooling操作\n",
    "        self.fc2=nn.Linear(in_features=120,out_features=60)\n",
    "        self.out=nn.Linear(in_features=60,out_features=10)#output layers\n",
    "    def forward(self,t):\n",
    "        # implement the forward pass\n",
    "        return t"
   ]
  },
  {
   "cell_type": "code",
   "execution_count": 3,
   "metadata": {},
   "outputs": [
    {
     "data": {
      "text/plain": [
       "Network(\n",
       "  (conv1): Conv2d(1, 6, kernel_size=(5, 5), stride=(1, 1))\n",
       "  (conv2): Conv2d(6, 12, kernel_size=(5, 5), stride=(1, 1))\n",
       "  (fc1): Linear(in_features=192, out_features=120, bias=True)\n",
       "  (fc2): Linear(in_features=120, out_features=60, bias=True)\n",
       "  (out): Linear(in_features=60, out_features=10, bias=True)\n",
       ")"
      ]
     },
     "execution_count": 3,
     "metadata": {},
     "output_type": "execute_result"
    }
   ],
   "source": [
    "network=Network()\n",
    "network  #涉及到__repr__ 函数的调用输出形式可以自己重写函数"
   ]
  },
  {
   "attachments": {},
   "cell_type": "markdown",
   "metadata": {},
   "source": [
    "_repr_ 函数的用法与覆盖"
   ]
  },
  {
   "cell_type": "code",
   "execution_count": 8,
   "metadata": {},
   "outputs": [],
   "source": [
    "class Network1():\n",
    "    def __init__(self):\n",
    "        # super(Network1, self).__init__()\n",
    "        self.conv1=nn.Conv2d(in_channels=1,out_channels=6,kernel_size=5)\n",
    "        self.conv2=nn.Conv2d(in_channels=6,out_channels=12,kernel_size=5)\n",
    "        self.fc1=nn.Linear(in_features=12*4*4,out_features=120)#经过了filter和maxpooling操作\n",
    "        self.fc2=nn.Linear(in_features=120,out_features=60)\n",
    "        self.out=nn.Linear(in_features=60,out_features=10)#output layers\n",
    "    def forward(self,t):\n",
    "        # implement the forward pass\n",
    "        return t\n",
    "    \n",
    "    def __repr__(self):\n",
    "        return \"lizard\"  "
   ]
  },
  {
   "cell_type": "code",
   "execution_count": 7,
   "metadata": {},
   "outputs": [
    {
     "data": {
      "text/plain": [
       "<__main__.Network1 at 0x2059a05d850>"
      ]
     },
     "execution_count": 7,
     "metadata": {},
     "output_type": "execute_result"
    }
   ],
   "source": [
    "#不改写\n",
    "network1=Network1()\n",
    "network1"
   ]
  },
  {
   "cell_type": "code",
   "execution_count": 9,
   "metadata": {},
   "outputs": [
    {
     "data": {
      "text/plain": [
       "lizard"
      ]
     },
     "execution_count": 9,
     "metadata": {},
     "output_type": "execute_result"
    }
   ],
   "source": [
    "#改写\n",
    "network1=Network1()\n",
    "network1"
   ]
  },
  {
   "attachments": {},
   "cell_type": "markdown",
   "metadata": {},
   "source": [
    "访问指定层"
   ]
  },
  {
   "cell_type": "code",
   "execution_count": 10,
   "metadata": {},
   "outputs": [
    {
     "data": {
      "text/plain": [
       "Conv2d(1, 6, kernel_size=(5, 5), stride=(1, 1))"
      ]
     },
     "execution_count": 10,
     "metadata": {},
     "output_type": "execute_result"
    }
   ],
   "source": [
    "network.conv1"
   ]
  },
  {
   "cell_type": "code",
   "execution_count": 11,
   "metadata": {},
   "outputs": [
    {
     "data": {
      "text/plain": [
       "Parameter containing:\n",
       "tensor([[[[ 0.0819,  0.0165, -0.1102,  0.0557, -0.1321],\n",
       "          [ 0.1975,  0.1330,  0.1095,  0.1727, -0.1761],\n",
       "          [-0.1314,  0.1002, -0.0591,  0.0551,  0.1289],\n",
       "          [-0.1546, -0.0376,  0.1132, -0.0135, -0.0256],\n",
       "          [ 0.1942,  0.0729, -0.0006, -0.1805, -0.0635]]],\n",
       "\n",
       "\n",
       "        [[[-0.0934, -0.1438,  0.0004,  0.1164, -0.0654],\n",
       "          [-0.0573, -0.1397, -0.0870, -0.0745,  0.1066],\n",
       "          [-0.0537,  0.1668,  0.0711,  0.0594, -0.0189],\n",
       "          [-0.1393, -0.0151, -0.0424, -0.0855,  0.1032],\n",
       "          [-0.1415,  0.0726,  0.0534,  0.1147, -0.1948]]],\n",
       "\n",
       "\n",
       "        [[[ 0.0009,  0.1197, -0.0157,  0.1552, -0.0939],\n",
       "          [-0.1118,  0.1570, -0.0559, -0.1235,  0.1353],\n",
       "          [ 0.0529, -0.1504, -0.0429,  0.0859,  0.1149],\n",
       "          [ 0.0722,  0.1861, -0.1593, -0.1789,  0.0168],\n",
       "          [ 0.1568,  0.1421,  0.1871,  0.1068,  0.0735]]],\n",
       "\n",
       "\n",
       "        [[[ 0.0672,  0.0932,  0.1609,  0.0375, -0.0056],\n",
       "          [ 0.0526, -0.1406,  0.1681,  0.1600, -0.1166],\n",
       "          [-0.0822,  0.0023,  0.0690,  0.1896,  0.1577],\n",
       "          [-0.1173, -0.0160,  0.0097, -0.0400,  0.1814],\n",
       "          [-0.1539,  0.0526, -0.1282, -0.0143,  0.0661]]],\n",
       "\n",
       "\n",
       "        [[[-0.1122,  0.0864,  0.1418, -0.1208, -0.0132],\n",
       "          [ 0.1346, -0.0436,  0.1525,  0.0071,  0.0898],\n",
       "          [ 0.1405,  0.0746,  0.0699, -0.1256, -0.0947],\n",
       "          [ 0.1792, -0.1510, -0.1699, -0.1239, -0.0512],\n",
       "          [ 0.1255,  0.0593, -0.0378,  0.0290,  0.0078]]],\n",
       "\n",
       "\n",
       "        [[[-0.0272,  0.1698,  0.0723,  0.0848, -0.1200],\n",
       "          [ 0.0972, -0.0382,  0.0699, -0.0434, -0.0100],\n",
       "          [-0.0343, -0.0457, -0.1275, -0.0443, -0.0582],\n",
       "          [ 0.0042,  0.0807, -0.1931, -0.0261,  0.1890],\n",
       "          [ 0.0172,  0.1477,  0.1099, -0.1903, -0.0234]]]], requires_grad=True)"
      ]
     },
     "execution_count": 11,
     "metadata": {},
     "output_type": "execute_result"
    }
   ],
   "source": [
    "network.conv1.weight"
   ]
  },
  {
   "cell_type": "code",
   "execution_count": 12,
   "metadata": {},
   "outputs": [
    {
     "data": {
      "text/plain": [
       "torch.Size([6, 1, 5, 5])"
      ]
     },
     "execution_count": 12,
     "metadata": {},
     "output_type": "execute_result"
    }
   ],
   "source": [
    "# 输出conv1权重的形状\n",
    "network.conv1.weight.shape  "
   ]
  },
  {
   "cell_type": "code",
   "execution_count": 13,
   "metadata": {},
   "outputs": [
    {
     "data": {
      "text/plain": [
       "Parameter containing:\n",
       "tensor([[ 0.0014, -0.0585,  0.0669,  ...,  0.0100,  0.0586,  0.0375],\n",
       "        [ 0.0083, -0.0306, -0.0159,  ...,  0.0421, -0.0609,  0.0668],\n",
       "        [ 0.0139, -0.0373,  0.0006,  ...,  0.0347,  0.0690, -0.0181],\n",
       "        ...,\n",
       "        [-0.0380,  0.0383,  0.0060,  ..., -0.0297,  0.0043,  0.0079],\n",
       "        [-0.0455,  0.0537, -0.0023,  ...,  0.0037,  0.0499, -0.0104],\n",
       "        [ 0.0155, -0.0201, -0.0123,  ...,  0.0082,  0.0537, -0.0445]],\n",
       "       requires_grad=True)"
      ]
     },
     "execution_count": 13,
     "metadata": {},
     "output_type": "execute_result"
    }
   ],
   "source": [
    "network.fc1.weight"
   ]
  },
  {
   "cell_type": "code",
   "execution_count": 14,
   "metadata": {},
   "outputs": [
    {
     "data": {
      "text/plain": [
       "torch.Size([120, 192])"
      ]
     },
     "execution_count": 14,
     "metadata": {},
     "output_type": "execute_result"
    }
   ],
   "source": [
    "#fc1: in_features=12*4*4 out_features=120\n",
    "network.fc1.weight.shape # 对于全连接层，由于需要flatten的张量输入，故此时的权重张量是个秩为2的高度、宽度轴\n",
    "#要注意这里input维度在前 output维度在后"
   ]
  },
  {
   "attachments": {},
   "cell_type": "markdown",
   "metadata": {},
   "source": [
    "1. 为了追踪网络中的所有权重张量，pytorch有一个叫Parameter的类，该类扩展了Tensor类， 所以每一层的权重张量就是这个参数类的一个实例  \n",
    "2. 权重矩阵定义了线性函数(线性映射)"
   ]
  },
  {
   "cell_type": "code",
   "execution_count": 16,
   "metadata": {},
   "outputs": [
    {
     "name": "stdout",
     "output_type": "stream",
     "text": [
      "torch.Size([6, 1, 5, 5])\n",
      "torch.Size([6])\n",
      "torch.Size([12, 6, 5, 5])\n",
      "torch.Size([12])\n",
      "torch.Size([120, 192])\n",
      "torch.Size([120])\n",
      "torch.Size([60, 120])\n",
      "torch.Size([60])\n",
      "torch.Size([10, 60])\n",
      "torch.Size([10])\n"
     ]
    }
   ],
   "source": [
    "#接上部分network\n",
    "#访问所有参数\n",
    "#method 1\n",
    "for param in network.parameters():\n",
    "    print(param.shape)"
   ]
  },
  {
   "cell_type": "code",
   "execution_count": 19,
   "metadata": {},
   "outputs": [
    {
     "name": "stdout",
     "output_type": "stream",
     "text": [
      "conv1.weight \t\t torch.Size([6, 1, 5, 5])\n",
      "conv1.bias \t\t torch.Size([6])\n",
      "conv2.weight \t\t torch.Size([12, 6, 5, 5])\n",
      "conv2.bias \t\t torch.Size([12])\n",
      "fc1.weight \t\t torch.Size([120, 192])\n",
      "fc1.bias \t\t torch.Size([120])\n",
      "fc2.weight \t\t torch.Size([60, 120])\n",
      "fc2.bias \t\t torch.Size([60])\n",
      "out.weight \t\t torch.Size([10, 60])\n",
      "out.bias \t\t torch.Size([10])\n"
     ]
    }
   ],
   "source": [
    "#method 2\n",
    "for name,param in network.named_parameters():\n",
    "    print(name,'\\t\\t',param.shape)"
   ]
  },
  {
   "attachments": {},
   "cell_type": "markdown",
   "metadata": {},
   "source": [
    "可调用模块"
   ]
  },
  {
   "cell_type": "code",
   "execution_count": 22,
   "metadata": {},
   "outputs": [
    {
     "data": {
      "text/plain": [
       "tensor([30., 40., 50.])"
      ]
     },
     "execution_count": 22,
     "metadata": {},
     "output_type": "execute_result"
    }
   ],
   "source": [
    "import torch\n",
    "in_features = torch.tensor([1,2,3,4],dtype=torch.float32)\n",
    "weight_matrix = torch.tensor([[1,2,3,4],\n",
    "                              [2,3,4,5],\n",
    "                              [3,4,5,6]],dtype=torch.float32)\n",
    "weight_matrix.matmul(in_features)\n",
    "#将上述的权重矩阵看作是一个线性映射（函数），其实现过程与pytorch中的线性层一样"
   ]
  },
  {
   "cell_type": "code",
   "execution_count": 24,
   "metadata": {},
   "outputs": [
    {
     "data": {
      "text/plain": [
       "tensor([-1.8789,  3.8741, -1.8820], grad_fn=<AddBackward0>)"
      ]
     },
     "execution_count": 24,
     "metadata": {},
     "output_type": "execute_result"
    }
   ],
   "source": [
    "fc=nn.Linear(in_features=4,out_features=3)\n",
    "# pytorch 线性层通过将数字4和3传递给构造函数，以创建一个3x4的权重矩阵\n",
    "fc(in_features)#随机结果"
   ]
  },
  {
   "cell_type": "code",
   "execution_count": 25,
   "metadata": {},
   "outputs": [
    {
     "data": {
      "text/plain": [
       "tensor([29.8041, 39.5712, 50.3035], grad_fn=<AddBackward0>)"
      ]
     },
     "execution_count": 25,
     "metadata": {},
     "output_type": "execute_result"
    }
   ],
   "source": [
    "fc_with_bias = nn.Linear(in_features=4,out_features=3,bias=True)#bias默认是True\n",
    "fc_with_bias.weight=nn.Parameter(weight_matrix)\n",
    "fc_with_bias(in_features)#会有bias的作用"
   ]
  },
  {
   "cell_type": "code",
   "execution_count": 26,
   "metadata": {},
   "outputs": [
    {
     "data": {
      "text/plain": [
       "tensor([30., 40., 50.], grad_fn=<SqueezeBackward3>)"
      ]
     },
     "execution_count": 26,
     "metadata": {},
     "output_type": "execute_result"
    }
   ],
   "source": [
    "fc_without_bias = nn.Linear(in_features=4,out_features=3,bias=False)\n",
    "fc_without_bias.weight=nn.Parameter(weight_matrix)\n",
    "fc_without_bias(in_features)#与矩阵乘法的结果完全相同"
   ]
  },
  {
   "attachments": {},
   "cell_type": "markdown",
   "metadata": {},
   "source": [
    "forward method"
   ]
  },
  {
   "cell_type": "code",
   "execution_count": 44,
   "metadata": {},
   "outputs": [],
   "source": [
    "#前向方法的实现将使用我们在构造函数中定义的所有层\n",
    "#前向方法实际上是输入张量到预测的输出张量的映射\n",
    "import torch.nn.functional as F\n",
    "class Network(nn.Module):\n",
    "    def __init__(self):\n",
    "        super(Network, self).__init__()\n",
    "        self.conv1=nn.Conv2d(in_channels=1,out_channels=6,kernel_size=5)\n",
    "        self.conv2=nn.Conv2d(in_channels=6,out_channels=12,kernel_size=5)\n",
    "        self.fc1=nn.Linear(in_features=12*4*4,out_features=120)#经过了filter和maxpooling操作\n",
    "        self.fc2=nn.Linear(in_features=120,out_features=60)\n",
    "        self.out=nn.Linear(in_features=60,out_features=10)#output layers\n",
    "    def forward(self,t):\n",
    "        # implement the forward pass\n",
    "        #(1) input layer\n",
    "        t=t\n",
    "        #(2) hidden conv layer1\n",
    "        t = self.conv1(t)\n",
    "        t = F.relu(t)\n",
    "        t = F.max_pool2d(t,kernel_size=2,stride=2)\n",
    "        #(3) hidden conv layer2\n",
    "        t = self.conv2(t)\n",
    "        t = F.relu(t)\n",
    "        t = F.max_pool2d(t,kernel_size=2,stride=2)\n",
    "        #(4) hidden linear layer1\n",
    "        t=t.reshape(-1,12*4*4)\n",
    "        # print(\"the shape of output of conv2 after reshape is\"+t.shape)\n",
    "        t = self.fc1(t)\n",
    "        t = F.relu(t)\n",
    "        #(5) hidden linear layer2\n",
    "        t = self.fc2(t)\n",
    "        t = F.relu(t)\n",
    "        #(6) output layer\n",
    "        t = self.out(t)\n",
    "        return t\n",
    "        # t= F.softmax(t, dim=1)  # 这里暂不使用softmax，在训练中使用交叉熵损失可隐式的表示softmax\n",
    "        # 在隐藏层中，通常使用relu作为非线性激活函数\n",
    "        # 在输出层，有类别要预测时，使用"
   ]
  },
  {
   "attachments": {},
   "cell_type": "markdown",
   "metadata": {},
   "source": [
    "模型训练——单张图像的训练"
   ]
  },
  {
   "cell_type": "code",
   "execution_count": 30,
   "metadata": {},
   "outputs": [],
   "source": [
    "import torchvision\n",
    "import torchvision.transforms as transforms\n",
    "\n",
    "torch.set_printoptions(linewidth=120)"
   ]
  },
  {
   "cell_type": "code",
   "execution_count": 31,
   "metadata": {},
   "outputs": [
    {
     "name": "stdout",
     "output_type": "stream",
     "text": [
      "Downloading http://fashion-mnist.s3-website.eu-central-1.amazonaws.com/train-images-idx3-ubyte.gz\n",
      "Downloading http://fashion-mnist.s3-website.eu-central-1.amazonaws.com/train-images-idx3-ubyte.gz to ./data/FashionMNIST\\FashionMNIST\\raw\\train-images-idx3-ubyte.gz\n"
     ]
    },
    {
     "name": "stderr",
     "output_type": "stream",
     "text": [
      "100%|██████████| 26421880/26421880 [02:06<00:00, 208057.87it/s]\n"
     ]
    },
    {
     "name": "stdout",
     "output_type": "stream",
     "text": [
      "Extracting ./data/FashionMNIST\\FashionMNIST\\raw\\train-images-idx3-ubyte.gz to ./data/FashionMNIST\\FashionMNIST\\raw\n",
      "\n",
      "Downloading http://fashion-mnist.s3-website.eu-central-1.amazonaws.com/train-labels-idx1-ubyte.gz\n",
      "Downloading http://fashion-mnist.s3-website.eu-central-1.amazonaws.com/train-labels-idx1-ubyte.gz to ./data/FashionMNIST\\FashionMNIST\\raw\\train-labels-idx1-ubyte.gz\n"
     ]
    },
    {
     "name": "stderr",
     "output_type": "stream",
     "text": [
      "100%|██████████| 29515/29515 [00:00<00:00, 62372.94it/s]\n"
     ]
    },
    {
     "name": "stdout",
     "output_type": "stream",
     "text": [
      "Extracting ./data/FashionMNIST\\FashionMNIST\\raw\\train-labels-idx1-ubyte.gz to ./data/FashionMNIST\\FashionMNIST\\raw\n",
      "\n",
      "Downloading http://fashion-mnist.s3-website.eu-central-1.amazonaws.com/t10k-images-idx3-ubyte.gz\n",
      "Downloading http://fashion-mnist.s3-website.eu-central-1.amazonaws.com/t10k-images-idx3-ubyte.gz to ./data/FashionMNIST\\FashionMNIST\\raw\\t10k-images-idx3-ubyte.gz\n"
     ]
    },
    {
     "name": "stderr",
     "output_type": "stream",
     "text": [
      "100%|██████████| 4422102/4422102 [00:09<00:00, 484189.64it/s]\n"
     ]
    },
    {
     "name": "stdout",
     "output_type": "stream",
     "text": [
      "Extracting ./data/FashionMNIST\\FashionMNIST\\raw\\t10k-images-idx3-ubyte.gz to ./data/FashionMNIST\\FashionMNIST\\raw\n",
      "\n",
      "Downloading http://fashion-mnist.s3-website.eu-central-1.amazonaws.com/t10k-labels-idx1-ubyte.gz\n",
      "Downloading http://fashion-mnist.s3-website.eu-central-1.amazonaws.com/t10k-labels-idx1-ubyte.gz to ./data/FashionMNIST\\FashionMNIST\\raw\\t10k-labels-idx1-ubyte.gz\n"
     ]
    },
    {
     "name": "stderr",
     "output_type": "stream",
     "text": [
      "100%|██████████| 5148/5148 [00:00<00:00, 5160678.06it/s]"
     ]
    },
    {
     "name": "stdout",
     "output_type": "stream",
     "text": [
      "Extracting ./data/FashionMNIST\\FashionMNIST\\raw\\t10k-labels-idx1-ubyte.gz to ./data/FashionMNIST\\FashionMNIST\\raw\n",
      "\n"
     ]
    },
    {
     "name": "stderr",
     "output_type": "stream",
     "text": [
      "\n"
     ]
    }
   ],
   "source": [
    "train_set=torchvision.datasets.FashionMNIST(\n",
    "    root='./data/FashionMNIST',\n",
    "    train=True,\n",
    "    download=True,\n",
    "    transform=transforms.Compose([\n",
    "        transforms.ToTensor()\n",
    "    ])\n",
    "    )"
   ]
  },
  {
   "cell_type": "code",
   "execution_count": 32,
   "metadata": {},
   "outputs": [
    {
     "data": {
      "text/plain": [
       "<torch.autograd.grad_mode.set_grad_enabled at 0x2059aa56970>"
      ]
     },
     "execution_count": 32,
     "metadata": {},
     "output_type": "execute_result"
    }
   ],
   "source": [
    "torch.set_grad_enabled(False)"
   ]
  },
  {
   "cell_type": "code",
   "execution_count": 33,
   "metadata": {},
   "outputs": [
    {
     "data": {
      "text/plain": [
       "torch.Size([1, 28, 28])"
      ]
     },
     "execution_count": 33,
     "metadata": {},
     "output_type": "execute_result"
    }
   ],
   "source": [
    "sample = next(iter(train_set))\n",
    "\n",
    "image,label=sample\n",
    "image.shape"
   ]
  },
  {
   "cell_type": "code",
   "execution_count": 36,
   "metadata": {},
   "outputs": [],
   "source": [
    "import matplotlib.pyplot as plt"
   ]
  },
  {
   "cell_type": "code",
   "execution_count": 37,
   "metadata": {},
   "outputs": [
    {
     "data": {
      "text/plain": [
       "<matplotlib.image.AxesImage at 0x2059f660790>"
      ]
     },
     "execution_count": 37,
     "metadata": {},
     "output_type": "execute_result"
    },
    {
     "data": {
      "image/png": "[encoded data removed]",
      "text/plain": [
       "<Figure size 432x288 with 1 Axes>"
      ]
     },
     "metadata": {
      "needs_background": "light"
     },
     "output_type": "display_data"
    }
   ],
   "source": [
    "# 显示图像和标签\n",
    "plt.imshow(image.squeeze(), cmap='gray')    # 将[1, 28, 28]->[28,28]\n",
    "#print('label:', label)\n",
    "# 如上我们得到的图像的形状为[1,28,28];而网络期望的张量是【batchsize,channels, height, width】\n",
    "# 需要使用unsqueeze方法来为其增加一个维度"
   ]
  },
  {
   "cell_type": "code",
   "execution_count": 38,
   "metadata": {},
   "outputs": [
    {
     "data": {
      "text/plain": [
       "torch.Size([1, 1, 28, 28])"
      ]
     },
     "execution_count": 38,
     "metadata": {},
     "output_type": "execute_result"
    }
   ],
   "source": [
    "image.unsqueeze(0).shape"
   ]
  },
  {
   "cell_type": "code",
   "execution_count": 42,
   "metadata": {},
   "outputs": [],
   "source": [
    "class Network(nn.Module):\n",
    "    def __init__(self):\n",
    "        super(Network, self).__init__()\n",
    "        self.conv1 = nn.Conv2d(in_channels = 1, out_channels=6, kernel_size=5)\n",
    "        self.conv2 = nn.Conv2d(in_channels = 6, out_channels=12, kernel_size=5)\n",
    "        self.fc1 = nn.Linear(in_features = 12*4*4, out_features=120)\n",
    "        self.fc2 = nn.Linear(in_features = 120, out_features = 60)\n",
    "        self.out = nn.Linear(in_features = 60, out_features=10)\n",
    "    def forward(self, t):\n",
    "        # （1）Input Layer\n",
    "        t = t\n",
    "        # (2) hidden conv1\n",
    "        t = self.conv1(t)\n",
    "        t = F.relu(t)\n",
    "        t = F.max_pool2d(t, kernel_size=2, stride=2)\n",
    "        # (3) hidden conv2 \n",
    "        t = self.conv2(t)\n",
    "        t = F.relu(t)\n",
    "        t = F.max_pool2d(t, kernel_size=2, stride=2)\n",
    "        # (4) hidden linear1\n",
    "        t = t.reshape(-1, 12*4*4)\n",
    "        t = self.fc1(t)\n",
    "        t = F.relu(t)\n",
    "        # (5) hidden linear2\n",
    "        t = self.fc2(t)\n",
    "        t = F.relu(t)\n",
    "        # (6) output\n",
    "        t = self.out(t)\n",
    "        return t"
   ]
  },
  {
   "cell_type": "code",
   "execution_count": 45,
   "metadata": {},
   "outputs": [
    {
     "name": "stdout",
     "output_type": "stream",
     "text": [
      "torch.Size([1, 10])\n",
      "tensor([[ 0.0707,  0.0721, -0.0535, -0.0771, -0.0631,  0.1027, -0.0170, -0.1018, -0.1150, -0.0690]])\n",
      "tensor([5])\n",
      "9\n"
     ]
    }
   ],
   "source": [
    "network=Network()\n",
    "pred = network(image.unsqueeze(0))\n",
    "print(pred.shape)\n",
    "print(pred)\n",
    "print(pred.argmax(dim=1))\n",
    "print(label)"
   ]
  },
  {
   "cell_type": "code",
   "execution_count": 47,
   "metadata": {},
   "outputs": [
    {
     "data": {
      "text/plain": [
       "tensor([[0.1010, 0.1010, 0.0997, 0.0995, 0.0996, 0.1013, 0.1000, 0.0992, 0.0991, 0.0995]])"
      ]
     },
     "execution_count": 47,
     "metadata": {},
     "output_type": "execute_result"
    }
   ],
   "source": [
    "#using softmax\n",
    "pred=F.softmax(pred,dim=1)\n",
    "pred #pred.sum()=1"
   ]
  },
  {
   "cell_type": "code",
   "execution_count": null,
   "metadata": {},
   "outputs": [],
   "source": []
  }
 ],
 "metadata": {
  "kernelspec": {
   "display_name": "torchenv",
   "language": "python",
   "name": "python3"
  },
  "language_info": {
   "codemirror_mode": {
    "name": "ipython",
    "version": 3
   },
   "file_extension": ".py",
   "mimetype": "text/x-python",
   "name": "python",
   "nbconvert_exporter": "python",
   "pygments_lexer": "ipython3",
   "version": "3.9.16"
  },
  "orig_nbformat": 4
 },
 "nbformat": 4,
 "nbformat_minor": 2
}
